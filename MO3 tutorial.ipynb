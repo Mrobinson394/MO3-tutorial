{
 "cells": [
  {
   "cell_type": "code",
   "execution_count": null,
   "id": "3d06ec3d-6cfe-412c-b966-54c9d0c228d9",
   "metadata": {},
   "outputs": [],
   "source": [
    "class Solution:\n",
    "    # Function to sort an array of 0s, 1s, and 2s\n",
    "    def sort012(self, arr):\n",
    "        low = 0\n",
    "        mid = 0\n",
    "        high = len(arr) - 1\n",
    "        while mid <= high:\n",
    "            if arr[mid] == 0:\n",
    "                # Swap arr[low] with arr[mid] and move both pointers\n",
    "                arr[low], arr[mid] = arr[mid], arr[low]\n",
    "                low += 1\n",
    "                mid += 1\n",
    "            elif arr[mid] == 1:\n",
    "                # Move the mid pointer\n",
    "                mid += 1\n",
    "            else:  # arr[mid] == 2\n",
    "                # Swap arr[mid] with arr[high] and move the high pointer\n",
    "                arr[high], arr[mid] = arr[mid], arr[high]\n",
    "                high -= 1\n",
    "                # Do not increment mid because we need to check the new element at mid\n",
    "\n",
    "        return arr\n",
    "\n",
    "def main():\n",
    "    # Example usage\n",
    "    solution = Solution()\n",
    "    arr1 = [0, 2, 1, 2, 0]\n",
    "    \n",
    "    # Sort the array\n",
    "    sorted_arr = solution.sort012(arr1)\n",
    "    \n",
    "    # Print the output as a space-separated string\n",
    "    print(' '.join(map(str, sorted_arr)))"
   ]
  },
  {
   "cell_type": "markdown",
   "id": "f3c1aac6-ca9d-4bfe-94e6-2b490c63b611",
   "metadata": {},
   "source": [
    "OPP programming excercise,  Sort an Array of 0s, 1s, and 2s"
   ]
  },
  {
   "cell_type": "code",
   "execution_count": 3,
   "id": "966e4ba5-ddcd-437e-a1bc-147b89ca6073",
   "metadata": {},
   "outputs": [],
   "source": [
    "class Solution:\n",
    "#User function template for Python\n",
    "    def binary_search(arr, k):\n",
    "        low = 0\n",
    "        high = len(arr) - 1\n",
    "    \n",
    "        while low <= high:\n",
    "            mid = (low + high) // 2\n",
    "        \n",
    "            if arr[mid] == k:\n",
    "               return mid\n",
    "            elif arr[mid] < k:\n",
    "               low = mid + 1\n",
    "            else:\n",
    "               high = mid - 1\n",
    "    \n",
    "        return -1\n",
    "\n",
    "def main():\n",
    "    import sys\n",
    "    input = sys.stdin.read().strip()\n",
    "    \n",
    "    # Parse the input\n",
    "    data = list(map(int, input.split()))\n",
    "    \n",
    "    # The first number is the value of k\n",
    "    k = data[0]\n",
    "    \n",
    "    # The rest of the numbers are the elements of the array\n",
    "    arr = data[1:]\n",
    "    \n",
    "    # Call binary_search and print the result\n",
    "    result = Solution.binary_search(arr, k)\n",
    "    print(result)"
   ]
  },
  {
   "cell_type": "markdown",
   "id": "6a2b81d1-6a58-41bd-b446-3e1ca66eff0b",
   "metadata": {},
   "source": [
    "Functional Programming, Binary Search"
   ]
  }
 ],
 "metadata": {
  "kernelspec": {
   "display_name": "Python 3 (ipykernel)",
   "language": "python",
   "name": "python3"
  },
  "language_info": {
   "codemirror_mode": {
    "name": "ipython",
    "version": 3
   },
   "file_extension": ".py",
   "mimetype": "text/x-python",
   "name": "python",
   "nbconvert_exporter": "python",
   "pygments_lexer": "ipython3",
   "version": "3.12.4"
  }
 },
 "nbformat": 4,
 "nbformat_minor": 5
}
